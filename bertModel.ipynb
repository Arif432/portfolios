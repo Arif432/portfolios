{
  "nbformat": 4,
  "nbformat_minor": 0,
  "metadata": {
    "colab": {
      "provenance": [],
      "toc_visible": true,
      "gpuType": "T4",
      "authorship_tag": "ABX9TyOdCqpD6tY+CuZFaD1V0IUJ",
      "include_colab_link": true
    },
    "kernelspec": {
      "name": "python3",
      "display_name": "Python 3"
    },
    "language_info": {
      "name": "python"
    },
    "accelerator": "GPU"
  },
  "cells": [
    {
      "cell_type": "markdown",
      "metadata": {
        "id": "view-in-github",
        "colab_type": "text"
      },
      "source": [
        "<a href=\"https://colab.research.google.com/github/Arif432/portfolios/blob/main/bertModel.ipynb\" target=\"_parent\"><img src=\"https://colab.research.google.com/assets/colab-badge.svg\" alt=\"Open In Colab\"/></a>"
      ]
    },
    {
      "cell_type": "code",
      "execution_count": 2,
      "metadata": {
        "id": "Dm7a2Cv-TdAq"
      },
      "outputs": [],
      "source": [
        "# Load the model via the transformers library\n",
        "from transformers import AutoTokenizer, AutoModel\n",
        "\n",
        "tokenizer = AutoTokenizer.from_pretrained(\"emilyalsentzer/Bio_ClinicalBERT\")\n",
        "model = AutoModel.from_pretrained(\"emilyalsentzer/Bio_ClinicalBERT\")\n"
      ]
    },
    {
      "cell_type": "code",
      "source": [],
      "metadata": {
        "id": "Hu-EDrclUODD"
      },
      "execution_count": null,
      "outputs": []
    },
    {
      "cell_type": "code",
      "source": [
        "clinical_note = \"Patient presents with chest pain and shortness of breath.\"\n",
        "tokenized_input = tokenizer.encode_plus(clinical_note, return_tensors=\"pt\", padding=True, truncation=True)\n"
      ],
      "metadata": {
        "colab": {
          "base_uri": "https://localhost:8080/"
        },
        "id": "dTwBgwVyUVE-",
        "outputId": "6ba46a07-914f-4d7c-d95f-7c8fc985d60a"
      },
      "execution_count": 3,
      "outputs": [
        {
          "output_type": "stream",
          "name": "stderr",
          "text": [
            "Asking to truncate to max_length but no maximum length is provided and the model has no predefined maximum length. Default to no truncation.\n"
          ]
        }
      ]
    },
    {
      "cell_type": "code",
      "source": [
        "import torch\n",
        "\n",
        "with torch.no_grad():\n",
        "    output = model(**tokenized_input)\n",
        "    embeddings = output.last_hidden_state\n"
      ],
      "metadata": {
        "id": "E_yD7Be2Uqvg"
      },
      "execution_count": 7,
      "outputs": []
    },
    {
      "cell_type": "code",
      "source": [
        "print(embeddings)\n"
      ],
      "metadata": {
        "colab": {
          "base_uri": "https://localhost:8080/"
        },
        "id": "tbX77uqxUyEr",
        "outputId": "86bb515b-ef96-4530-c54d-9464ce4aa3ef"
      },
      "execution_count": 8,
      "outputs": [
        {
          "output_type": "stream",
          "name": "stdout",
          "text": [
            "tensor([[[ 0.0894,  0.2792, -0.2372,  ..., -0.5050,  0.0806, -0.3876],\n",
            "         [-0.2173, -0.1029,  0.1795,  ...,  0.0390, -0.0651,  0.0905],\n",
            "         [ 0.1883,  0.1502,  0.4540,  ...,  0.1421, -0.2161, -0.1014],\n",
            "         ...,\n",
            "         [ 0.2611,  0.0791,  0.1329,  ..., -0.4998, -0.1079, -0.4049],\n",
            "         [ 0.6670, -0.2609, -1.0834,  ..., -0.2224,  0.1810, -0.6438],\n",
            "         [ 0.7426, -0.3093, -1.0478,  ..., -0.2260,  0.1855, -0.6380]]])\n"
          ]
        }
      ]
    },
    {
      "cell_type": "code",
      "source": [],
      "metadata": {
        "id": "KKB5FBZcVng-"
      },
      "execution_count": null,
      "outputs": []
    }
  ]
}